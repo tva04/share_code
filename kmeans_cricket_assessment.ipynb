{
 "cells": [
  {
   "cell_type": "code",
   "execution_count": 1,
   "metadata": {},
   "outputs": [
    {
     "name": "stdout",
     "output_type": "stream",
     "text": [
      "Virat Kohli is in cluster: 0\n",
      "Players in the same cluster as Virat Kohli:\n",
      "                     Player  cluster\n",
      "13    MS Dhoni (Asia/INDIA)        0\n",
      "15  AB de Villiers (Afr/SA)        0\n",
      "25          V Kohli (INDIA)        0\n",
      "34             HM Amla (SA)        0\n",
      "38           MG Bevan (AUS)        0\n",
      "42        IVA Richards (WI)        0\n",
      "64         MEK Hussey (AUS)        0\n"
     ]
    },
    {
     "name": "stderr",
     "output_type": "stream",
     "text": [
      "c:\\Users\\anand\\anaconda3\\Lib\\site-packages\\sklearn\\cluster\\_kmeans.py:1446: UserWarning: KMeans is known to have a memory leak on Windows with MKL, when there are less chunks than available threads. You can avoid it by setting the environment variable OMP_NUM_THREADS=1.\n",
      "  warnings.warn(\n"
     ]
    }
   ],
   "source": [
    "import numpy as np\n",
    "import pandas as pd\n",
    "import matplotlib.pyplot as plt\n",
    "import seaborn as sns\n",
    "from sklearn.preprocessing import StandardScaler\n",
    "from sklearn.cluster import KMeans \n",
    "df = pd.read_csv('Cricket.csv',sep=\",\", encoding=\"ISO-8859-1\")\n",
    "# Selecting the relevant columns (strike rate and average)\n",
    "X = df[['Ave', 'SR']]\n",
    "\n",
    "# Standardizing the data using StandardScaler\n",
    "scaler = StandardScaler()\n",
    "X_scaled = scaler.fit_transform(X)\n",
    "X_scaled = pd.DataFrame(X_scaled)\n",
    "X_scaled.columns = ['Average' , 'Strike_Rate']\n",
    "\n",
    "# Applying K-Means with 4 clusters and random_state=100\n",
    "kmeans = KMeans(n_clusters=4, max_iter=50, random_state=100)\n",
    "kmeans.fit(X_scaled)\n",
    "df['cluster'] = kmeans.labels_\n",
    "\n",
    "# Finding which cluster Virat Kohli falls into\n",
    "virat_cluster = df[df['Player'] == 'V Kohli (INDIA)']['cluster'].values[0]\n",
    "\n",
    "# Checking players in the same cluster as Virat Kohli\n",
    "players_in_same_cluster = df[df['cluster'] == virat_cluster]\n",
    "players_in_same_cluster=players_in_same_cluster[['Player', 'cluster']]\n",
    "\n",
    "# Displaying the result\n",
    "print(\"Virat Kohli is in cluster:\", virat_cluster)\n",
    "print(\"Players in the same cluster as Virat Kohli:\")\n",
    "print(players_in_same_cluster)"
   ]
  },
  {
   "cell_type": "code",
   "execution_count": null,
   "metadata": {},
   "outputs": [],
   "source": []
  }
 ],
 "metadata": {
  "kernelspec": {
   "display_name": "base",
   "language": "python",
   "name": "python3"
  },
  "language_info": {
   "codemirror_mode": {
    "name": "ipython",
    "version": 3
   },
   "file_extension": ".py",
   "mimetype": "text/x-python",
   "name": "python",
   "nbconvert_exporter": "python",
   "pygments_lexer": "ipython3",
   "version": "3.12.4"
  }
 },
 "nbformat": 4,
 "nbformat_minor": 2
}
